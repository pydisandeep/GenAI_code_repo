{
 "cells": [
  {
   "cell_type": "code",
   "execution_count": 2,
   "id": "746226b9-beb1-4415-970d-54294f5a3b4f",
   "metadata": {
    "tags": []
   },
   "outputs": [],
   "source": [
    "import json\n",
    "import pandas as pd\n",
    "from collections import defaultdict\n",
    "import os\n",
    "from collections import Counter"
   ]
  },
  {
   "cell_type": "code",
   "execution_count": 3,
   "id": "84d68173-e079-46ac-96fe-fe48970ff837",
   "metadata": {
    "tags": []
   },
   "outputs": [
    {
     "name": "stdout",
     "output_type": "stream",
     "text": [
      "Requirement already satisfied: langchain in /opt/conda/lib/python3.10/site-packages (0.1.20)\n",
      "Requirement already satisfied: langchain_community in /opt/conda/lib/python3.10/site-packages (0.0.38)\n",
      "Requirement already satisfied: transformers in /opt/conda/lib/python3.10/site-packages (4.40.2)\n",
      "Requirement already satisfied: SQLAlchemy==2.0.27 in /opt/conda/lib/python3.10/site-packages (2.0.27)\n",
      "Requirement already satisfied: openai in /opt/conda/lib/python3.10/site-packages (1.28.1)\n",
      "Requirement already satisfied: faiss-cpu in /opt/conda/lib/python3.10/site-packages (1.8.0)\n",
      "Requirement already satisfied: pinecone-client in /opt/conda/lib/python3.10/site-packages (4.0.0)\n",
      "Requirement already satisfied: typing-extensions>=4.6.0 in /opt/conda/lib/python3.10/site-packages (from SQLAlchemy==2.0.27) (4.11.0)\n",
      "Requirement already satisfied: greenlet!=0.4.17 in /opt/conda/lib/python3.10/site-packages (from SQLAlchemy==2.0.27) (3.0.3)\n",
      "Requirement already satisfied: PyYAML>=5.3 in /opt/conda/lib/python3.10/site-packages (from langchain) (6.0.1)\n",
      "Requirement already satisfied: aiohttp<4.0.0,>=3.8.3 in /opt/conda/lib/python3.10/site-packages (from langchain) (3.9.5)\n",
      "Requirement already satisfied: async-timeout<5.0.0,>=4.0.0 in /opt/conda/lib/python3.10/site-packages (from langchain) (4.0.3)\n",
      "Requirement already satisfied: dataclasses-json<0.7,>=0.5.7 in /opt/conda/lib/python3.10/site-packages (from langchain) (0.6.6)\n",
      "Requirement already satisfied: langchain-core<0.2.0,>=0.1.52 in /opt/conda/lib/python3.10/site-packages (from langchain) (0.1.52)\n",
      "Requirement already satisfied: langchain-text-splitters<0.1,>=0.0.1 in /opt/conda/lib/python3.10/site-packages (from langchain) (0.0.1)\n",
      "Requirement already satisfied: langsmith<0.2.0,>=0.1.17 in /opt/conda/lib/python3.10/site-packages (from langchain) (0.1.57)\n",
      "Requirement already satisfied: numpy<2,>=1 in /opt/conda/lib/python3.10/site-packages (from langchain) (1.26.4)\n",
      "Requirement already satisfied: pydantic<3,>=1 in /opt/conda/lib/python3.10/site-packages (from langchain) (2.7.0)\n",
      "Requirement already satisfied: requests<3,>=2 in /opt/conda/lib/python3.10/site-packages (from langchain) (2.31.0)\n",
      "Requirement already satisfied: tenacity<9.0.0,>=8.1.0 in /opt/conda/lib/python3.10/site-packages (from langchain) (8.2.3)\n",
      "Requirement already satisfied: filelock in /opt/conda/lib/python3.10/site-packages (from transformers) (3.13.4)\n",
      "Requirement already satisfied: huggingface-hub<1.0,>=0.19.3 in /opt/conda/lib/python3.10/site-packages (from transformers) (0.23.0)\n",
      "Requirement already satisfied: packaging>=20.0 in /opt/conda/lib/python3.10/site-packages (from transformers) (23.2)\n",
      "Requirement already satisfied: regex!=2019.12.17 in /opt/conda/lib/python3.10/site-packages (from transformers) (2023.12.25)\n",
      "Requirement already satisfied: tokenizers<0.20,>=0.19 in /opt/conda/lib/python3.10/site-packages (from transformers) (0.19.1)\n",
      "Requirement already satisfied: safetensors>=0.4.1 in /opt/conda/lib/python3.10/site-packages (from transformers) (0.4.3)\n",
      "Requirement already satisfied: tqdm>=4.27 in /opt/conda/lib/python3.10/site-packages (from transformers) (4.66.1)\n",
      "Requirement already satisfied: anyio<5,>=3.5.0 in /opt/conda/lib/python3.10/site-packages (from openai) (4.3.0)\n",
      "Requirement already satisfied: distro<2,>=1.7.0 in /opt/conda/lib/python3.10/site-packages (from openai) (1.8.0)\n",
      "Requirement already satisfied: httpx<1,>=0.23.0 in /opt/conda/lib/python3.10/site-packages (from openai) (0.27.0)\n",
      "Requirement already satisfied: sniffio in /opt/conda/lib/python3.10/site-packages (from openai) (1.3.1)\n",
      "Requirement already satisfied: certifi>=2019.11.17 in /opt/conda/lib/python3.10/site-packages (from pinecone-client) (2024.2.2)\n",
      "Requirement already satisfied: urllib3>=1.26.0 in /opt/conda/lib/python3.10/site-packages (from pinecone-client) (2.2.1)\n",
      "Requirement already satisfied: aiosignal>=1.1.2 in /opt/conda/lib/python3.10/site-packages (from aiohttp<4.0.0,>=3.8.3->langchain) (1.3.1)\n",
      "Requirement already satisfied: attrs>=17.3.0 in /opt/conda/lib/python3.10/site-packages (from aiohttp<4.0.0,>=3.8.3->langchain) (23.2.0)\n",
      "Requirement already satisfied: frozenlist>=1.1.1 in /opt/conda/lib/python3.10/site-packages (from aiohttp<4.0.0,>=3.8.3->langchain) (1.4.1)\n",
      "Requirement already satisfied: multidict<7.0,>=4.5 in /opt/conda/lib/python3.10/site-packages (from aiohttp<4.0.0,>=3.8.3->langchain) (6.0.5)\n",
      "Requirement already satisfied: yarl<2.0,>=1.0 in /opt/conda/lib/python3.10/site-packages (from aiohttp<4.0.0,>=3.8.3->langchain) (1.9.4)\n",
      "Requirement already satisfied: idna>=2.8 in /opt/conda/lib/python3.10/site-packages (from anyio<5,>=3.5.0->openai) (3.6)\n",
      "Requirement already satisfied: exceptiongroup>=1.0.2 in /opt/conda/lib/python3.10/site-packages (from anyio<5,>=3.5.0->openai) (1.2.0)\n",
      "Requirement already satisfied: marshmallow<4.0.0,>=3.18.0 in /opt/conda/lib/python3.10/site-packages (from dataclasses-json<0.7,>=0.5.7->langchain) (3.21.1)\n",
      "Requirement already satisfied: typing-inspect<1,>=0.4.0 in /opt/conda/lib/python3.10/site-packages (from dataclasses-json<0.7,>=0.5.7->langchain) (0.9.0)\n",
      "Requirement already satisfied: httpcore==1.* in /opt/conda/lib/python3.10/site-packages (from httpx<1,>=0.23.0->openai) (1.0.5)\n",
      "Requirement already satisfied: h11<0.15,>=0.13 in /opt/conda/lib/python3.10/site-packages (from httpcore==1.*->httpx<1,>=0.23.0->openai) (0.14.0)\n",
      "Requirement already satisfied: fsspec>=2023.5.0 in /opt/conda/lib/python3.10/site-packages (from huggingface-hub<1.0,>=0.19.3->transformers) (2024.3.1)\n",
      "Requirement already satisfied: jsonpatch<2.0,>=1.33 in /opt/conda/lib/python3.10/site-packages (from langchain-core<0.2.0,>=0.1.52->langchain) (1.33)\n",
      "Requirement already satisfied: orjson<4.0.0,>=3.9.14 in /opt/conda/lib/python3.10/site-packages (from langsmith<0.2.0,>=0.1.17->langchain) (3.10.3)\n",
      "Requirement already satisfied: annotated-types>=0.4.0 in /opt/conda/lib/python3.10/site-packages (from pydantic<3,>=1->langchain) (0.6.0)\n",
      "Requirement already satisfied: pydantic-core==2.18.1 in /opt/conda/lib/python3.10/site-packages (from pydantic<3,>=1->langchain) (2.18.1)\n",
      "Requirement already satisfied: charset-normalizer<4,>=2 in /opt/conda/lib/python3.10/site-packages (from requests<3,>=2->langchain) (3.3.2)\n",
      "Requirement already satisfied: jsonpointer>=1.9 in /opt/conda/lib/python3.10/site-packages (from jsonpatch<2.0,>=1.33->langchain-core<0.2.0,>=0.1.52->langchain) (2.4)\n",
      "Requirement already satisfied: mypy-extensions>=0.3.0 in /opt/conda/lib/python3.10/site-packages (from typing-inspect<1,>=0.4.0->dataclasses-json<0.7,>=0.5.7->langchain) (1.0.0)\n",
      "\u001b[33mWARNING: Running pip as the 'root' user can result in broken permissions and conflicting behaviour with the system package manager. It is recommended to use a virtual environment instead: https://pip.pypa.io/warnings/venv\u001b[0m\u001b[33m\n",
      "\u001b[0mNote: you may need to restart the kernel to use updated packages.\n"
     ]
    }
   ],
   "source": [
    "pip install langchain langchain_community transformers SQLAlchemy==2.0.27 openai faiss-cpu pinecone-client"
   ]
  },
  {
   "cell_type": "code",
   "execution_count": 4,
   "id": "76d8da50-95bd-407e-817a-7796d5d62c49",
   "metadata": {
    "tags": []
   },
   "outputs": [],
   "source": [
    "from langchain.docstore.document import Document"
   ]
  },
  {
   "cell_type": "code",
   "execution_count": 5,
   "id": "22317e71-fc5c-4955-8da1-6207fa4385c7",
   "metadata": {
    "tags": []
   },
   "outputs": [],
   "source": [
    "from langchain_text_splitters import RecursiveCharacterTextSplitter\n",
    "from langchain.chains.summarize import load_summarize_chain\n",
    "from langchain_community.llms.bedrock import Bedrock\n",
    "from langchain.llms import OpenAI\n",
    "from langchain.chat_models import ChatOpenAI\n",
    "from langchain.embeddings.openai import OpenAIEmbeddings\n",
    "from langchain.vectorstores import FAISS\n",
    "import pinecone \n",
    "from langchain.vectorstores import Pinecone\n",
    "from pinecone import Pinecone, ServerlessSpec\n",
    "from langchain.embeddings import BedrockEmbeddings\n",
    "from langchain.chains import RetrievalQA"
   ]
  },
  {
   "cell_type": "code",
   "execution_count": 6,
   "id": "b328d875-e34a-4dff-ae8a-65cceb04c587",
   "metadata": {
    "tags": []
   },
   "outputs": [],
   "source": [
    "import json\n",
    "import os\n",
    "import sys\n",
    "\n",
    "import boto3\n",
    "\n",
    "module_path = \"..\"\n",
    "sys.path.append(os.path.abspath(module_path))\n",
    "from utils import bedrock, print_ww"
   ]
  },
  {
   "cell_type": "code",
   "execution_count": 7,
   "id": "5f05965c-303b-4778-8cde-f36e4ed7d27e",
   "metadata": {
    "tags": []
   },
   "outputs": [],
   "source": [
    "import warnings\n",
    "warnings.filterwarnings(\"ignore\")"
   ]
  },
  {
   "cell_type": "code",
   "execution_count": 8,
   "id": "85aa860c-76c8-40e3-a2b2-221ed400a25c",
   "metadata": {
    "tags": []
   },
   "outputs": [
    {
     "name": "stdout",
     "output_type": "stream",
     "text": [
      "Question_1.ipynb               TRDataChallenge2023.txt\n",
      "Question_2_copy.ipynb          loading+data+and+summarizing-coding.ipynb\n",
      "Question_2_copy_new.ipynb      my_list.json\n",
      "Question_2_first_method.ipynb  \u001b[0m\u001b[01;34mutils\u001b[0m/\n"
     ]
    }
   ],
   "source": [
    "ls"
   ]
  },
  {
   "cell_type": "code",
   "execution_count": 9,
   "id": "920531a6-083b-4060-99ee-988ca50ca73a",
   "metadata": {
    "tags": []
   },
   "outputs": [],
   "source": [
    "#Read The Data"
   ]
  },
  {
   "cell_type": "code",
   "execution_count": 10,
   "id": "28704e22-6d75-4097-afbc-922352a1fe95",
   "metadata": {
    "tags": []
   },
   "outputs": [],
   "source": [
    "with open('TRDataChallenge2023.txt', 'r') as file:\n",
    "    json_objects = []\n",
    "    for line in file:\n",
    "        json_data = json.loads(line)\n",
    "        json_objects.append(json_data)"
   ]
  },
  {
   "cell_type": "code",
   "execution_count": 11,
   "id": "4033bf06-5e5a-418e-9071-e22e0ef9e293",
   "metadata": {
    "tags": []
   },
   "outputs": [
    {
     "data": {
      "text/plain": [
       "18000"
      ]
     },
     "execution_count": 11,
     "metadata": {},
     "output_type": "execute_result"
    }
   ],
   "source": [
    "len(json_objects)"
   ]
  },
  {
   "cell_type": "code",
   "execution_count": 12,
   "id": "0aeda384-b478-4be1-8d3b-64492d27adc8",
   "metadata": {
    "tags": []
   },
   "outputs": [],
   "source": [
    "empty_postures=0"
   ]
  },
  {
   "cell_type": "code",
   "execution_count": 13,
   "id": "371086cc-8204-4df7-bf06-fd17f01bb9b0",
   "metadata": {
    "tags": []
   },
   "outputs": [],
   "source": [
    "for i in json_objects:\n",
    "    if len(i['postures'])==0:\n",
    "        empty_postures+=1"
   ]
  },
  {
   "cell_type": "code",
   "execution_count": 14,
   "id": "fdbcd69c-8f0c-438a-b090-2f4b3c889f33",
   "metadata": {
    "tags": []
   },
   "outputs": [
    {
     "data": {
      "text/plain": [
       "923"
      ]
     },
     "execution_count": 14,
     "metadata": {},
     "output_type": "execute_result"
    }
   ],
   "source": [
    "empty_postures"
   ]
  },
  {
   "cell_type": "code",
   "execution_count": 15,
   "id": "2a0a3c5a-cd85-41b6-9e67-9e938e5d7249",
   "metadata": {
    "tags": []
   },
   "outputs": [],
   "source": [
    "for i in json_objects:\n",
    "    if len(i['postures'])==0:\n",
    "        json_objects.remove(i)"
   ]
  },
  {
   "cell_type": "code",
   "execution_count": 16,
   "id": "a2862355-fc57-4e6f-8531-b25bc5f9d6df",
   "metadata": {
    "tags": []
   },
   "outputs": [
    {
     "data": {
      "text/plain": [
       "17129"
      ]
     },
     "execution_count": 16,
     "metadata": {},
     "output_type": "execute_result"
    }
   ],
   "source": [
    "len(json_objects)"
   ]
  },
  {
   "cell_type": "code",
   "execution_count": 17,
   "id": "d33ff960-fa9e-49b4-a604-03e530a4eadf",
   "metadata": {
    "tags": []
   },
   "outputs": [],
   "source": [
    "empty_postures=0"
   ]
  },
  {
   "cell_type": "code",
   "execution_count": 18,
   "id": "50330cba-9ca7-4295-a678-77d427cf1a4f",
   "metadata": {
    "tags": []
   },
   "outputs": [],
   "source": [
    "for i in json_objects:\n",
    "    if len(i['postures'])==0:\n",
    "        json_objects.remove(i)"
   ]
  },
  {
   "cell_type": "code",
   "execution_count": 19,
   "id": "739b6a9e-f6e0-47f8-9e19-b41a13aa300b",
   "metadata": {
    "tags": []
   },
   "outputs": [
    {
     "data": {
      "text/plain": [
       "17077"
      ]
     },
     "execution_count": 19,
     "metadata": {},
     "output_type": "execute_result"
    }
   ],
   "source": [
    "len(json_objects)"
   ]
  },
  {
   "cell_type": "code",
   "execution_count": 20,
   "id": "33b767dd-101e-4b25-a8c8-f44f7757ec9d",
   "metadata": {
    "tags": []
   },
   "outputs": [
    {
     "name": "stdout",
     "output_type": "stream",
     "text": [
      "Create new client\n",
      "  Using region: us-west-2\n",
      "boto3 Bedrock client successfully created!\n",
      "bedrock-runtime(https://bedrock-runtime.us-west-2.amazonaws.com)\n"
     ]
    }
   ],
   "source": [
    "boto3_bedrock = bedrock.get_bedrock_client(\n",
    "    assumed_role=os.environ.get(\"BEDROCK_ASSUME_ROLE\", None),\n",
    "    region=os.environ.get(\"AWS_DEFAULT_REGION\", None)\n",
    ")"
   ]
  },
  {
   "cell_type": "code",
   "execution_count": 21,
   "id": "5f8f8ae2-c7b8-48d7-add4-f0e658cd92b5",
   "metadata": {
    "tags": []
   },
   "outputs": [],
   "source": [
    "inference_modifier = {\n",
    "    \"temperature\": 0.9,\n",
    "    \"p\": 0.9,\n",
    "    \"max_tokens\": 4096\n",
    "}\n",
    "\n",
    "textgen_llm= Bedrock(\n",
    "    model_id=\"cohere.command-text-v14\",\n",
    "    client=boto3_bedrock,\n",
    "    model_kwargs=inference_modifier,\n",
    ")"
   ]
  },
  {
   "cell_type": "code",
   "execution_count": 22,
   "id": "fe8870e3-ae4e-4c1a-85af-067eb4097468",
   "metadata": {
    "tags": []
   },
   "outputs": [],
   "source": [
    "summary_chain = load_summarize_chain(\n",
    "    llm=textgen_llm,\n",
    "    chain_type='map_reduce'\n",
    ")"
   ]
  },
  {
   "cell_type": "code",
   "execution_count": 23,
   "id": "aa38ffe3-aa63-4b31-ba3b-5621e3eca1e4",
   "metadata": {
    "tags": []
   },
   "outputs": [],
   "source": [
    "text_splitter = RecursiveCharacterTextSplitter(\n",
    "    chunk_size=1000,\n",
    "    chunk_overlap=0,\n",
    ")"
   ]
  },
  {
   "cell_type": "code",
   "execution_count": 24,
   "id": "7bea4d86-2714-485f-9f11-b669bc2ae35c",
   "metadata": {
    "tags": []
   },
   "outputs": [],
   "source": [
    "#Second Method - RAG from Raw Documents "
   ]
  },
  {
   "cell_type": "code",
   "execution_count": 25,
   "id": "773a4fee-4157-43f7-8cd1-5b514bcac7ab",
   "metadata": {
    "tags": []
   },
   "outputs": [],
   "source": [
    "#Due to Time Contraint I decided to take top 10 Postures by count. Because LLM is taking for ever \n",
    "#To run command. I will take 100 Documentsfrom top 10 that means 10 from each\n"
   ]
  },
  {
   "cell_type": "code",
   "execution_count": 26,
   "id": "2dddb176-4300-4334-a03f-6fc0c5482803",
   "metadata": {
    "tags": []
   },
   "outputs": [],
   "source": [
    "#taking top 10"
   ]
  },
  {
   "cell_type": "code",
   "execution_count": 27,
   "id": "6c9289f0-0fa2-416f-8c74-bd98bb458f50",
   "metadata": {
    "tags": []
   },
   "outputs": [],
   "source": [
    "postures_unique=[i['postures'] for i in json_objects]"
   ]
  },
  {
   "cell_type": "code",
   "execution_count": 28,
   "id": "c68c4caf-93b4-45aa-9186-1f41e2501884",
   "metadata": {
    "tags": []
   },
   "outputs": [],
   "source": [
    "posture_list=[]\n",
    "for i in postures_unique:\n",
    "    posture_list.extend(i)"
   ]
  },
  {
   "cell_type": "code",
   "execution_count": 29,
   "id": "a124e599-11ac-47b7-9ed0-86c4f9fcf2c8",
   "metadata": {
    "tags": []
   },
   "outputs": [],
   "source": [
    "posture_list_final = list(dict(Counter(posture_list)).keys())[:10]"
   ]
  },
  {
   "cell_type": "code",
   "execution_count": 30,
   "id": "be097af7-dd11-41fe-b468-b809e16f83f7",
   "metadata": {
    "tags": []
   },
   "outputs": [
    {
     "data": {
      "text/plain": [
       "['On Appeal',\n",
       " 'Appellate Review',\n",
       " 'Sentencing or Penalty Phase Motion or Objection',\n",
       " 'Motion to Compel Arbitration',\n",
       " 'Review of Administrative Decision',\n",
       " 'Motion to Dismiss',\n",
       " 'Trial or Guilt Phase Motion or Objection',\n",
       " 'Motion for Preliminary Injunction',\n",
       " 'Motion for Judgment as a Matter of Law (JMOL)/Directed Verdict',\n",
       " \"Motion for Attorney's Fees\"]"
      ]
     },
     "execution_count": 30,
     "metadata": {},
     "output_type": "execute_result"
    }
   ],
   "source": [
    "posture_list_final"
   ]
  },
  {
   "cell_type": "code",
   "execution_count": 31,
   "id": "d1625489-b3d2-4cb1-b004-3f559417a85a",
   "metadata": {
    "tags": []
   },
   "outputs": [],
   "source": [
    "#taking 100 documents from top 10"
   ]
  },
  {
   "cell_type": "code",
   "execution_count": 32,
   "id": "e73b1cf7-e416-466c-b198-0c8494de39a4",
   "metadata": {
    "tags": []
   },
   "outputs": [],
   "source": [
    "json_objects_new=[]\n",
    "for i in json_objects:\n",
    "    for j in i['postures']:\n",
    "        if j in posture_list_final:\n",
    "            json_objects_new.append(i)"
   ]
  },
  {
   "cell_type": "code",
   "execution_count": 33,
   "id": "1f285497-de5f-44da-9201-6f29bd5915a7",
   "metadata": {
    "tags": []
   },
   "outputs": [],
   "source": [
    "final_list=[]\n",
    "doc_id=[-1]\n",
    "for i in posture_list_final:\n",
    "    temp_list=[]\n",
    "    for j in json_objects_new:\n",
    "        if i in j['postures']:\n",
    "            if j['documentId'] not in doc_id:\n",
    "                doc_id.append(j['documentId'])\n",
    "                temp_list.append(j)\n",
    "            else:\n",
    "                pass\n",
    "        if len(temp_list)==10:\n",
    "            final_list.extend(temp_list)\n",
    "            break"
   ]
  },
  {
   "cell_type": "code",
   "execution_count": 34,
   "id": "fb554c05-a8f0-4857-b74e-20c1071476a8",
   "metadata": {
    "tags": []
   },
   "outputs": [],
   "source": [
    "for i in final_list:\n",
    "    for j in i['postures']:\n",
    "        if j not in posture_list_final:\n",
    "            i['postures'].remove(j)"
   ]
  },
  {
   "cell_type": "code",
   "execution_count": 35,
   "id": "2bb77d8c-3d61-4c23-ae84-59d98b409f10",
   "metadata": {
    "tags": []
   },
   "outputs": [
    {
     "name": "stdout",
     "output_type": "stream",
     "text": [
      "['On Appeal']\n",
      "['Motion to Compel Arbitration', 'On Appeal']\n",
      "['On Appeal', 'Review of Administrative Decision']\n",
      "['On Appeal']\n",
      "['On Appeal']\n",
      "['On Appeal']\n",
      "['On Appeal']\n",
      "['On Appeal']\n",
      "['On Appeal', 'Review of Administrative Decision']\n",
      "['On Appeal']\n",
      "['Appellate Review', 'Sentencing or Penalty Phase Motion or Objection']\n",
      "['Appellate Review', 'Sentencing or Penalty Phase Motion or Objection']\n",
      "['Appellate Review', 'Trial or Guilt Phase Motion or Objection']\n",
      "['Appellate Review']\n",
      "['Appellate Review']\n",
      "['Appellate Review']\n",
      "['Appellate Review']\n",
      "['Appellate Review']\n",
      "['Appellate Review']\n",
      "['Appellate Review']\n",
      "['Appellate Review', 'Sentencing or Penalty Phase Motion or Objection']\n",
      "['Appellate Review', 'Sentencing or Penalty Phase Motion or Objection']\n",
      "['Appellate Review', 'Sentencing or Penalty Phase Motion or Objection']\n",
      "['Appellate Review', 'Sentencing or Penalty Phase Motion or Objection']\n",
      "['Appellate Review', 'Sentencing or Penalty Phase Motion or Objection']\n",
      "['Appellate Review', 'Sentencing or Penalty Phase Motion or Objection']\n",
      "['Appellate Review', 'Sentencing or Penalty Phase Motion or Objection']\n",
      "['Appellate Review', 'Sentencing or Penalty Phase Motion or Objection']\n",
      "['Appellate Review', 'Sentencing or Penalty Phase Motion or Objection']\n",
      "['Appellate Review', 'Sentencing or Penalty Phase Motion or Objection']\n",
      "['Motion to Compel Arbitration', 'On Appeal']\n",
      "['Motion for Preliminary Injunction', 'Motion to Compel Arbitration', 'Motion to Dismiss', 'On Appeal']\n",
      "['Motion to Compel Arbitration', 'On Appeal']\n",
      "['Motion to Compel Arbitration', 'Motion to Transfer or Change Venue']\n",
      "['Motion to Compel Arbitration', 'On Appeal']\n",
      "['Motion to Compel Arbitration', 'Motion to Dismiss']\n",
      "['Motion to Compel Arbitration', 'Motion to Dismiss', 'On Appeal']\n",
      "['Motion to Compel Arbitration', 'Motion to Dismiss']\n",
      "['Motion to Compel Arbitration', 'On Appeal']\n",
      "['Motion to Compel Arbitration', 'On Appeal']\n",
      "['Review of Administrative Decision']\n",
      "['Review of Administrative Decision']\n",
      "['Review of Administrative Decision']\n",
      "['Review of Administrative Decision']\n",
      "['Review of Administrative Decision']\n",
      "['Review of Administrative Decision']\n",
      "['Review of Administrative Decision']\n",
      "['On Appeal', 'Review of Administrative Decision']\n",
      "['Review of Administrative Decision']\n",
      "['On Appeal', 'Review of Administrative Decision']\n",
      "['Motion to Dismiss']\n",
      "[\"Motion for Attorney's Fees\", 'Motion to Dismiss', 'On Appeal']\n",
      "['Motion to Dismiss', 'On Appeal']\n",
      "['Motion to Dismiss', 'On Appeal']\n",
      "['Motion to Dismiss']\n",
      "['Motion to Dismiss', 'On Appeal']\n",
      "['Motion to Dismiss', 'On Appeal']\n",
      "['Motion to Dismiss', 'On Appeal']\n",
      "['Motion to Dismiss']\n",
      "['Motion to Dismiss', 'Review of Administrative Decision']\n",
      "['Appellate Review', 'Trial or Guilt Phase Motion or Objection']\n",
      "['Appellate Review', 'Trial or Guilt Phase Motion or Objection']\n",
      "['Appellate Review', 'Trial or Guilt Phase Motion or Objection']\n",
      "['Appellate Review', 'Trial or Guilt Phase Motion or Objection']\n",
      "['Appellate Review', 'Trial or Guilt Phase Motion or Objection']\n",
      "['Appellate Review', 'Trial or Guilt Phase Motion or Objection']\n",
      "['Appellate Review', 'Trial or Guilt Phase Motion or Objection']\n",
      "['Appellate Review', 'Trial or Guilt Phase Motion or Objection']\n",
      "['Appellate Review', 'Trial or Guilt Phase Motion or Objection']\n",
      "['Appellate Review', 'Trial or Guilt Phase Motion or Objection']\n",
      "['Motion for Preliminary Injunction']\n",
      "['Motion for Preliminary Injunction', 'On Appeal']\n",
      "['Motion for Preliminary Injunction']\n",
      "['Motion for Preliminary Injunction', 'On Appeal']\n",
      "['Motion for Preliminary Injunction', 'On Appeal']\n",
      "['Motion for Preliminary Injunction']\n",
      "['Motion for Preliminary Injunction', 'On Appeal']\n",
      "['Motion for Preliminary Injunction', 'On Appeal']\n",
      "['Motion for Preliminary Injunction']\n",
      "['Motion for Preliminary Injunction', 'Motion to Dismiss', 'On Appeal']\n",
      "['Motion for Judgment as a Matter of Law (JMOL)/Directed Verdict']\n",
      "['Motion for Judgment as a Matter of Law (JMOL)/Directed Verdict', 'On Appeal']\n",
      "['Motion for Judgment as a Matter of Law (JMOL)/Directed Verdict', 'On Appeal']\n",
      "['Motion for Judgment as a Matter of Law (JMOL)/Directed Verdict', 'On Appeal']\n",
      "['Motion for Judgment as a Matter of Law (JMOL)/Directed Verdict', 'On Appeal']\n",
      "['Motion for Judgment as a Matter of Law (JMOL)/Directed Verdict', 'On Appeal']\n",
      "['Motion for Judgment as a Matter of Law (JMOL)/Directed Verdict', 'On Appeal']\n",
      "['Motion for Judgment as a Matter of Law (JMOL)/Directed Verdict', 'On Appeal']\n",
      "['Motion for Judgment as a Matter of Law (JMOL)/Directed Verdict']\n",
      "['Motion for Judgment as a Matter of Law (JMOL)/Directed Verdict', 'Motion for Remittitur']\n",
      "[\"Motion for Attorney's Fees\", 'On Appeal']\n",
      "[\"Motion for Attorney's Fees\", 'On Appeal']\n",
      "[\"Motion for Attorney's Fees\", 'On Appeal']\n",
      "[\"Motion for Attorney's Fees\", 'On Appeal']\n",
      "[\"Motion for Attorney's Fees\"]\n",
      "[\"Motion for Attorney's Fees\", 'On Appeal']\n",
      "[\"Motion for Attorney's Fees\", 'On Appeal']\n",
      "[\"Motion for Attorney's Fees\", 'Motion to Dismiss', 'Motion to Stay Enforcement of Judgment', 'On Appeal']\n",
      "[\"Motion for Attorney's Fees\", 'Motion to Dismiss', 'On Appeal', 'Review of Administrative Decision']\n",
      "[\"Motion for Attorney's Fees\", 'Motion for Contempt Sanctions', 'On Appeal']\n"
     ]
    }
   ],
   "source": [
    "for i in final_list:\n",
    "    print(i['postures'])"
   ]
  },
  {
   "cell_type": "code",
   "execution_count": 36,
   "id": "725f8e23-d6c1-4bf2-a3a5-3f486847b496",
   "metadata": {
    "tags": []
   },
   "outputs": [],
   "source": [
    "for i in final_list:\n",
    "    txt=''\n",
    "    for j in i['sections']:\n",
    "        if len(j['paragraphs'])==0:\n",
    "            txt=txt+''\n",
    "        else:\n",
    "            for k in range(len(j['paragraphs'])):\n",
    "                txt=txt+j['paragraphs'][k]\n",
    "    i['para_concat']=txt"
   ]
  },
  {
   "cell_type": "code",
   "execution_count": 37,
   "id": "1f3f6ff4-82f4-47b2-b914-29951d73a716",
   "metadata": {
    "tags": []
   },
   "outputs": [],
   "source": [
    "keys_to_keep = [\"postures\", \"para_concat\"]"
   ]
  },
  {
   "cell_type": "code",
   "execution_count": 38,
   "id": "a7f60fc8-ea9d-4338-bc21-871c96998847",
   "metadata": {
    "tags": []
   },
   "outputs": [],
   "source": [
    "new_data = [{key: item[key] for key in keys_to_keep} for item in final_list]"
   ]
  },
  {
   "cell_type": "code",
   "execution_count": 39,
   "id": "b36d8d61-85a9-4ea3-890b-d50f5f90a750",
   "metadata": {
    "tags": []
   },
   "outputs": [],
   "source": [
    "df=pd.DataFrame(new_data,columns=['postures','para_concat'])"
   ]
  },
  {
   "cell_type": "code",
   "execution_count": 40,
   "id": "74119dd5-4d83-4c14-b50e-5ddcefc5a406",
   "metadata": {
    "tags": []
   },
   "outputs": [],
   "source": [
    "df=df.explode('postures')"
   ]
  },
  {
   "cell_type": "code",
   "execution_count": 41,
   "id": "cc3e58f8-2a02-4608-a3a6-bf4e454f6a01",
   "metadata": {
    "tags": []
   },
   "outputs": [],
   "source": [
    "aggregated_text_by_posture = df.groupby('postures')['para_concat'].apply(lambda x:''.join(x)).reset_index()"
   ]
  },
  {
   "cell_type": "code",
   "execution_count": 42,
   "id": "085150ad-659d-40c9-a538-f7c2c2c46c68",
   "metadata": {
    "tags": []
   },
   "outputs": [
    {
     "data": {
      "text/html": [
       "<div>\n",
       "<style scoped>\n",
       "    .dataframe tbody tr th:only-of-type {\n",
       "        vertical-align: middle;\n",
       "    }\n",
       "\n",
       "    .dataframe tbody tr th {\n",
       "        vertical-align: top;\n",
       "    }\n",
       "\n",
       "    .dataframe thead th {\n",
       "        text-align: right;\n",
       "    }\n",
       "</style>\n",
       "<table border=\"1\" class=\"dataframe\">\n",
       "  <thead>\n",
       "    <tr style=\"text-align: right;\">\n",
       "      <th></th>\n",
       "      <th>postures</th>\n",
       "      <th>para_concat</th>\n",
       "    </tr>\n",
       "  </thead>\n",
       "  <tbody>\n",
       "    <tr>\n",
       "      <th>0</th>\n",
       "      <td>Appellate Review</td>\n",
       "      <td>After pleading guilty, William Jerome Howard, ...</td>\n",
       "    </tr>\n",
       "    <tr>\n",
       "      <th>1</th>\n",
       "      <td>Motion for Attorney's Fees</td>\n",
       "      <td>Gregory Kinsey (“Kinsey”) appeals from the tri...</td>\n",
       "    </tr>\n",
       "    <tr>\n",
       "      <th>2</th>\n",
       "      <td>Motion for Contempt Sanctions</td>\n",
       "      <td>PlayNation Play Systems, Inc., a company that ...</td>\n",
       "    </tr>\n",
       "    <tr>\n",
       "      <th>3</th>\n",
       "      <td>Motion for Judgment as a Matter of Law (JMOL)/...</td>\n",
       "      <td>The pending proceeding was brought pursuant to...</td>\n",
       "    </tr>\n",
       "    <tr>\n",
       "      <th>4</th>\n",
       "      <td>Motion for Preliminary Injunction</td>\n",
       "      <td>The opinion of the court was delivered byIn th...</td>\n",
       "    </tr>\n",
       "    <tr>\n",
       "      <th>5</th>\n",
       "      <td>Motion for Remittitur</td>\n",
       "      <td>Pending are Defendant International Longshorem...</td>\n",
       "    </tr>\n",
       "    <tr>\n",
       "      <th>6</th>\n",
       "      <td>Motion to Compel Arbitration</td>\n",
       "      <td>Frederick Greene, the plaintiff below, derivat...</td>\n",
       "    </tr>\n",
       "    <tr>\n",
       "      <th>7</th>\n",
       "      <td>Motion to Dismiss</td>\n",
       "      <td>The opinion of the court was delivered byIn th...</td>\n",
       "    </tr>\n",
       "    <tr>\n",
       "      <th>8</th>\n",
       "      <td>Motion to Stay Enforcement of Judgment</td>\n",
       "      <td>A borough resident filed suit against the boro...</td>\n",
       "    </tr>\n",
       "    <tr>\n",
       "      <th>9</th>\n",
       "      <td>Motion to Transfer or Change Venue</td>\n",
       "      <td>These motions arise out of complicated lending...</td>\n",
       "    </tr>\n",
       "    <tr>\n",
       "      <th>10</th>\n",
       "      <td>On Appeal</td>\n",
       "      <td>Plaintiff Dwight Watson (“Husband”) appeals fr...</td>\n",
       "    </tr>\n",
       "    <tr>\n",
       "      <th>11</th>\n",
       "      <td>Review of Administrative Decision</td>\n",
       "      <td>Appeal from an amended judgment of the Supreme...</td>\n",
       "    </tr>\n",
       "    <tr>\n",
       "      <th>12</th>\n",
       "      <td>Sentencing or Penalty Phase Motion or Objection</td>\n",
       "      <td>After pleading guilty, William Jerome Howard, ...</td>\n",
       "    </tr>\n",
       "    <tr>\n",
       "      <th>13</th>\n",
       "      <td>Trial or Guilt Phase Motion or Objection</td>\n",
       "      <td>This consolidated appeal arises out of the ope...</td>\n",
       "    </tr>\n",
       "  </tbody>\n",
       "</table>\n",
       "</div>"
      ],
      "text/plain": [
       "                                             postures  \\\n",
       "0                                    Appellate Review   \n",
       "1                          Motion for Attorney's Fees   \n",
       "2                       Motion for Contempt Sanctions   \n",
       "3   Motion for Judgment as a Matter of Law (JMOL)/...   \n",
       "4                   Motion for Preliminary Injunction   \n",
       "5                               Motion for Remittitur   \n",
       "6                        Motion to Compel Arbitration   \n",
       "7                                   Motion to Dismiss   \n",
       "8              Motion to Stay Enforcement of Judgment   \n",
       "9                  Motion to Transfer or Change Venue   \n",
       "10                                          On Appeal   \n",
       "11                  Review of Administrative Decision   \n",
       "12    Sentencing or Penalty Phase Motion or Objection   \n",
       "13           Trial or Guilt Phase Motion or Objection   \n",
       "\n",
       "                                          para_concat  \n",
       "0   After pleading guilty, William Jerome Howard, ...  \n",
       "1   Gregory Kinsey (“Kinsey”) appeals from the tri...  \n",
       "2   PlayNation Play Systems, Inc., a company that ...  \n",
       "3   The pending proceeding was brought pursuant to...  \n",
       "4   The opinion of the court was delivered byIn th...  \n",
       "5   Pending are Defendant International Longshorem...  \n",
       "6   Frederick Greene, the plaintiff below, derivat...  \n",
       "7   The opinion of the court was delivered byIn th...  \n",
       "8   A borough resident filed suit against the boro...  \n",
       "9   These motions arise out of complicated lending...  \n",
       "10  Plaintiff Dwight Watson (“Husband”) appeals fr...  \n",
       "11  Appeal from an amended judgment of the Supreme...  \n",
       "12  After pleading guilty, William Jerome Howard, ...  \n",
       "13  This consolidated appeal arises out of the ope...  "
      ]
     },
     "execution_count": 42,
     "metadata": {},
     "output_type": "execute_result"
    }
   ],
   "source": [
    "aggregated_text_by_posture"
   ]
  },
  {
   "cell_type": "code",
   "execution_count": 43,
   "id": "66f87141-b46c-47ee-a5ac-67bbde28d633",
   "metadata": {
    "tags": []
   },
   "outputs": [],
   "source": [
    "data_dict={}"
   ]
  },
  {
   "cell_type": "code",
   "execution_count": 44,
   "id": "2a481f38-4c2f-44f7-8f35-742c424acfdb",
   "metadata": {
    "tags": []
   },
   "outputs": [],
   "source": [
    "for index,row in df.iterrows():\n",
    "    data_dict[row['postures']]=row['para_concat']"
   ]
  },
  {
   "cell_type": "code",
   "execution_count": 45,
   "id": "9604d09b-2721-4379-9337-040a68340006",
   "metadata": {
    "tags": []
   },
   "outputs": [
    {
     "name": "stdout",
     "output_type": "stream",
     "text": [
      "On Appeal\n",
      "Motion to Compel Arbitration\n",
      "Review of Administrative Decision\n",
      "Appellate Review\n",
      "Sentencing or Penalty Phase Motion or Objection\n",
      "Trial or Guilt Phase Motion or Objection\n",
      "Motion for Preliminary Injunction\n",
      "Motion to Dismiss\n",
      "Motion to Transfer or Change Venue\n",
      "Motion for Attorney's Fees\n",
      "Motion for Judgment as a Matter of Law (JMOL)/Directed Verdict\n",
      "Motion for Remittitur\n",
      "Motion to Stay Enforcement of Judgment\n",
      "Motion for Contempt Sanctions\n"
     ]
    }
   ],
   "source": [
    "for i in data_dict:\n",
    "    print(i)"
   ]
  },
  {
   "cell_type": "code",
   "execution_count": 46,
   "id": "c65074a3-9cfc-4745-a454-3166b30aaf95",
   "metadata": {
    "tags": []
   },
   "outputs": [],
   "source": [
    "data_dict_Doc={}"
   ]
  },
  {
   "cell_type": "code",
   "execution_count": 47,
   "id": "c54e0955-7268-44e1-bdba-26caf3df3f1f",
   "metadata": {
    "tags": []
   },
   "outputs": [
    {
     "data": {
      "text/plain": [
       "{}"
      ]
     },
     "execution_count": 47,
     "metadata": {},
     "output_type": "execute_result"
    }
   ],
   "source": [
    "data_dict_Doc"
   ]
  },
  {
   "cell_type": "code",
   "execution_count": 48,
   "id": "7e5e2811-5deb-4b60-91b5-de6f1b91e0a8",
   "metadata": {
    "tags": []
   },
   "outputs": [],
   "source": [
    "for i in data_dict:\n",
    "    data_dict_Doc[i]=text_splitter.split_text(data_dict[i])"
   ]
  },
  {
   "cell_type": "code",
   "execution_count": 49,
   "id": "c98bbd2a-5282-4b9d-bb0e-de5f958daa0e",
   "metadata": {
    "tags": []
   },
   "outputs": [],
   "source": [
    "docs=[]\n",
    "for i in data_dict_Doc:\n",
    "    for j in data_dict_Doc[i]:\n",
    "        docs.append(Document(page_content=j,metadata={'postures': i,}))"
   ]
  },
  {
   "cell_type": "code",
   "execution_count": 50,
   "id": "13bff9ea-dd52-4335-80ae-3af2d5668e5c",
   "metadata": {
    "tags": []
   },
   "outputs": [
    {
     "data": {
      "text/plain": [
       "348"
      ]
     },
     "execution_count": 50,
     "metadata": {},
     "output_type": "execute_result"
    }
   ],
   "source": [
    "len(docs)"
   ]
  },
  {
   "cell_type": "code",
   "execution_count": 51,
   "id": "40e978f3-85b4-4e81-8b3f-c201b06e7af4",
   "metadata": {
    "tags": []
   },
   "outputs": [],
   "source": [
    "bedrock_embeddings = BedrockEmbeddings(model_id=\"cohere.embed-english-v3\", client=boto3_bedrock)"
   ]
  },
  {
   "cell_type": "code",
   "execution_count": 52,
   "id": "e9f31dd6-4018-49c5-81bb-eb2e425243c1",
   "metadata": {
    "tags": []
   },
   "outputs": [],
   "source": [
    "index = FAISS.from_documents(docs, bedrock_embeddings)"
   ]
  },
  {
   "cell_type": "code",
   "execution_count": 53,
   "id": "04422fc4-39cd-454a-8f66-daff669e1184",
   "metadata": {
    "tags": []
   },
   "outputs": [],
   "source": [
    "retriever = index.as_retriever()\n",
    "retriever.search_kwargs['fetch_k'] = 20\n",
    "retriever.search_kwargs['maximal_marginal_relevance'] = True\n",
    "retriever.search_kwargs['k'] = 10"
   ]
  },
  {
   "cell_type": "code",
   "execution_count": 54,
   "id": "7d41bb35-1e4a-4b0f-9e82-5e31a56dfa37",
   "metadata": {
    "tags": []
   },
   "outputs": [],
   "source": [
    "chain_search = RetrievalQA.from_chain_type(\n",
    "    llm=textgen_llm, \n",
    "    retriever=retriever,\n",
    "    chain_type='map_reduce',\n",
    "    verbose=False,\n",
    "    return_source_documents=True)"
   ]
  },
  {
   "cell_type": "code",
   "execution_count": 55,
   "id": "5f360632-a40d-40a3-a8be-7a54bc456b4c",
   "metadata": {
    "tags": []
   },
   "outputs": [],
   "source": [
    "#Testing "
   ]
  },
  {
   "cell_type": "code",
   "execution_count": 56,
   "id": "57393df3-5390-4569-a369-39883181e3cb",
   "metadata": {
    "tags": []
   },
   "outputs": [],
   "source": [
    "#taking another 30 documents "
   ]
  },
  {
   "cell_type": "code",
   "execution_count": 57,
   "id": "3b408e60-3cb8-469a-b175-2489505c5913",
   "metadata": {
    "tags": []
   },
   "outputs": [],
   "source": [
    "test_list=[]\n",
    "#doc_id=[-1]\n",
    "for i in posture_list_final:\n",
    "    temp_list=[]\n",
    "    for j in json_objects_new:\n",
    "        if i in j['postures']:\n",
    "            if j['documentId'] not in doc_id:\n",
    "                doc_id.append(j['documentId'])\n",
    "                temp_list.append(j)\n",
    "            else:\n",
    "                pass\n",
    "        if len(temp_list)==3:\n",
    "            test_list.extend(temp_list)\n",
    "            break"
   ]
  },
  {
   "cell_type": "code",
   "execution_count": 58,
   "id": "b3a016a0-98f6-4082-9e6d-80b4cbccc40a",
   "metadata": {
    "tags": []
   },
   "outputs": [],
   "source": [
    "for i in test_list:\n",
    "    for j in i['postures']:\n",
    "        if j not in posture_list_final:\n",
    "            i['postures'].remove(j)"
   ]
  },
  {
   "cell_type": "code",
   "execution_count": 59,
   "id": "beed7c02-918c-4324-833d-9d105418d87a",
   "metadata": {
    "tags": []
   },
   "outputs": [
    {
     "name": "stdout",
     "output_type": "stream",
     "text": [
      "['On Appeal']\n",
      "['On Appeal']\n",
      "['On Appeal']\n",
      "['Appellate Review']\n",
      "['Appellate Review']\n",
      "['Appellate Review']\n",
      "['Appellate Review', 'Sentencing or Penalty Phase Motion or Objection']\n",
      "['Appellate Review', 'Sentencing or Penalty Phase Motion or Objection']\n",
      "['Appellate Review', 'Sentencing or Penalty Phase Motion or Objection']\n",
      "['Motion to Compel Arbitration', 'On Appeal']\n",
      "['Motion to Compel Arbitration']\n",
      "['Motion to Compel Arbitration', 'Motion to Dismiss', 'On Appeal']\n",
      "['On Appeal', 'Review of Administrative Decision']\n",
      "['Review of Administrative Decision']\n",
      "['Review of Administrative Decision']\n",
      "['Motion to Dismiss']\n",
      "['Motion to Dismiss', 'On Appeal']\n",
      "['Motion to Dismiss', 'On Appeal']\n",
      "['Appellate Review', 'Trial or Guilt Phase Motion or Objection']\n",
      "['Appellate Review', 'Trial or Guilt Phase Motion or Objection']\n",
      "['Appellate Review', 'Trial or Guilt Phase Motion or Objection']\n",
      "['Motion for Preliminary Injunction', 'On Appeal']\n",
      "['Motion for Preliminary Injunction', 'On Appeal']\n",
      "['Motion for Preliminary Injunction', 'On Appeal']\n",
      "['Motion for Judgment as a Matter of Law (JMOL)/Directed Verdict', 'Motion for Permanent Injunction', 'On Appeal']\n",
      "['Motion for Judgment as a Matter of Law (JMOL)/Directed Verdict', 'On Appeal']\n",
      "['Motion for Judgment as a Matter of Law (JMOL)/Directed Verdict', 'Motion for Remittitur', 'On Appeal']\n",
      "[\"Motion for Attorney's Fees\", 'On Appeal']\n",
      "[\"Motion for Attorney's Fees\", 'On Appeal']\n",
      "[\"Motion for Attorney's Fees\", 'On Appeal']\n"
     ]
    }
   ],
   "source": [
    "for i in test_list:\n",
    "    print(i['postures'])"
   ]
  },
  {
   "cell_type": "code",
   "execution_count": 60,
   "id": "68e82896-eaf5-44d7-9bc9-d0d9acbaa351",
   "metadata": {
    "tags": []
   },
   "outputs": [],
   "source": [
    "for i in test_list:\n",
    "    txt=''\n",
    "    for j in i['sections']:\n",
    "        if len(j['paragraphs'])==0:\n",
    "            txt=txt+''\n",
    "        else:\n",
    "            for k in range(len(j['paragraphs'])):\n",
    "                txt=txt+j['paragraphs'][k]\n",
    "    i['para_concat']=txt"
   ]
  },
  {
   "cell_type": "code",
   "execution_count": 61,
   "id": "3d09fe88-84f5-467c-97db-38a136f5032a",
   "metadata": {
    "tags": []
   },
   "outputs": [
    {
     "data": {
      "text/plain": [
       "dict_keys(['documentId', 'postures', 'sections', 'para_concat'])"
      ]
     },
     "execution_count": 61,
     "metadata": {},
     "output_type": "execute_result"
    }
   ],
   "source": [
    "test_list[0].keys()"
   ]
  },
  {
   "cell_type": "code",
   "execution_count": 62,
   "id": "86ffae88-a40f-4738-87be-145752c7df2b",
   "metadata": {
    "tags": []
   },
   "outputs": [],
   "source": [
    "keys_to_keep = [\"postures\", \"para_concat\"]"
   ]
  },
  {
   "cell_type": "code",
   "execution_count": 63,
   "id": "c8004c7f-1a4c-4339-bf8c-552b33ee7081",
   "metadata": {
    "tags": []
   },
   "outputs": [],
   "source": [
    "new_data = [{key: item[key] for key in keys_to_keep} for item in test_list]"
   ]
  },
  {
   "cell_type": "code",
   "execution_count": 64,
   "id": "8fa4decb-881e-4392-8bd0-7f8052cb0816",
   "metadata": {
    "tags": []
   },
   "outputs": [
    {
     "data": {
      "text/plain": [
       "30"
      ]
     },
     "execution_count": 64,
     "metadata": {},
     "output_type": "execute_result"
    }
   ],
   "source": [
    "len(new_data)"
   ]
  },
  {
   "cell_type": "code",
   "execution_count": 65,
   "id": "2ed047a3-d192-4d4d-87b3-f0a2e312a5bc",
   "metadata": {
    "tags": []
   },
   "outputs": [],
   "source": [
    "df=pd.DataFrame(new_data,columns=['postures','para_concat'])"
   ]
  },
  {
   "cell_type": "code",
   "execution_count": 66,
   "id": "266407da-235e-43f2-a1d3-9542700b3385",
   "metadata": {
    "tags": []
   },
   "outputs": [
    {
     "data": {
      "text/html": [
       "<div>\n",
       "<style scoped>\n",
       "    .dataframe tbody tr th:only-of-type {\n",
       "        vertical-align: middle;\n",
       "    }\n",
       "\n",
       "    .dataframe tbody tr th {\n",
       "        vertical-align: top;\n",
       "    }\n",
       "\n",
       "    .dataframe thead th {\n",
       "        text-align: right;\n",
       "    }\n",
       "</style>\n",
       "<table border=\"1\" class=\"dataframe\">\n",
       "  <thead>\n",
       "    <tr style=\"text-align: right;\">\n",
       "      <th></th>\n",
       "      <th>postures</th>\n",
       "      <th>para_concat</th>\n",
       "    </tr>\n",
       "  </thead>\n",
       "  <tbody>\n",
       "    <tr>\n",
       "      <th>0</th>\n",
       "      <td>[On Appeal]</td>\n",
       "      <td>This appeal arises from a judgment entered in ...</td>\n",
       "    </tr>\n",
       "    <tr>\n",
       "      <th>1</th>\n",
       "      <td>[On Appeal]</td>\n",
       "      <td>The plaintiff, Gaynell Shelton, appeals a tria...</td>\n",
       "    </tr>\n",
       "    <tr>\n",
       "      <th>2</th>\n",
       "      <td>[On Appeal]</td>\n",
       "      <td>Appeal from an order of the District Court of ...</td>\n",
       "    </tr>\n",
       "    <tr>\n",
       "      <th>3</th>\n",
       "      <td>[Appellate Review]</td>\n",
       "      <td>Defendants-appellants Kwame A. Insaidoo (“Kwam...</td>\n",
       "    </tr>\n",
       "    <tr>\n",
       "      <th>4</th>\n",
       "      <td>[Appellate Review]</td>\n",
       "      <td>¶ 1. Defendant appeals a conviction of refusal...</td>\n",
       "    </tr>\n",
       "    <tr>\n",
       "      <th>5</th>\n",
       "      <td>[Appellate Review]</td>\n",
       "      <td>¶1. A jury found Willie Nash guilty of possess...</td>\n",
       "    </tr>\n",
       "    <tr>\n",
       "      <th>6</th>\n",
       "      <td>[Appellate Review, Sentencing or Penalty Phase...</td>\n",
       "      <td>Defendant appeals a judgment of conviction for...</td>\n",
       "    </tr>\n",
       "    <tr>\n",
       "      <th>7</th>\n",
       "      <td>[Appellate Review, Sentencing or Penalty Phase...</td>\n",
       "      <td>A jury found Jorge Sainz Navarrete guilty of c...</td>\n",
       "    </tr>\n",
       "    <tr>\n",
       "      <th>8</th>\n",
       "      <td>[Appellate Review, Sentencing or Penalty Phase...</td>\n",
       "      <td>Elmer Don Whittaker pled guilty to maintaining...</td>\n",
       "    </tr>\n",
       "    <tr>\n",
       "      <th>9</th>\n",
       "      <td>[Motion to Compel Arbitration, On Appeal]</td>\n",
       "      <td>Appellant Brickell Motors, LLC, seeks review o...</td>\n",
       "    </tr>\n",
       "    <tr>\n",
       "      <th>10</th>\n",
       "      <td>[Motion to Compel Arbitration]</td>\n",
       "      <td>Petitioner Universal Protection Service, L.P. ...</td>\n",
       "    </tr>\n",
       "    <tr>\n",
       "      <th>11</th>\n",
       "      <td>[Motion to Compel Arbitration, Motion to Dismi...</td>\n",
       "      <td>In this action under Section 301 of the Labor ...</td>\n",
       "    </tr>\n",
       "    <tr>\n",
       "      <th>12</th>\n",
       "      <td>[On Appeal, Review of Administrative Decision]</td>\n",
       "      <td>Appellants S.H. and R.L.G. challenge the Minne...</td>\n",
       "    </tr>\n",
       "    <tr>\n",
       "      <th>13</th>\n",
       "      <td>[Review of Administrative Decision]</td>\n",
       "      <td>The Goshen Public Library of Elkhart County, I...</td>\n",
       "    </tr>\n",
       "    <tr>\n",
       "      <th>14</th>\n",
       "      <td>[Review of Administrative Decision]</td>\n",
       "      <td>[¶ 1] The Conservation Law Foundation; the Ind...</td>\n",
       "    </tr>\n",
       "    <tr>\n",
       "      <th>15</th>\n",
       "      <td>[Motion to Dismiss]</td>\n",
       "      <td>This is a summary proceeding to recover posses...</td>\n",
       "    </tr>\n",
       "    <tr>\n",
       "      <th>16</th>\n",
       "      <td>[Motion to Dismiss, On Appeal]</td>\n",
       "      <td>The defendant, Jerry P. Cotrone, appeals from ...</td>\n",
       "    </tr>\n",
       "    <tr>\n",
       "      <th>17</th>\n",
       "      <td>[Motion to Dismiss, On Appeal]</td>\n",
       "      <td>Order, Supreme Court, New York County (Eileen ...</td>\n",
       "    </tr>\n",
       "    <tr>\n",
       "      <th>18</th>\n",
       "      <td>[Appellate Review, Trial or Guilt Phase Motion...</td>\n",
       "      <td>Appeal by the defendant from a judgment of the...</td>\n",
       "    </tr>\n",
       "    <tr>\n",
       "      <th>19</th>\n",
       "      <td>[Appellate Review, Trial or Guilt Phase Motion...</td>\n",
       "      <td>In this exception proceeding, the question pre...</td>\n",
       "    </tr>\n",
       "    <tr>\n",
       "      <th>20</th>\n",
       "      <td>[Appellate Review, Trial or Guilt Phase Motion...</td>\n",
       "      <td>Appellant Roderick Thornton was convicted of m...</td>\n",
       "    </tr>\n",
       "    <tr>\n",
       "      <th>21</th>\n",
       "      <td>[Motion for Preliminary Injunction, On Appeal]</td>\n",
       "      <td>Appeal from an order of the Supreme Court (Rei...</td>\n",
       "    </tr>\n",
       "    <tr>\n",
       "      <th>22</th>\n",
       "      <td>[Motion for Preliminary Injunction, On Appeal]</td>\n",
       "      <td>Jan Kowalski McDonald, an Illinois attorney pr...</td>\n",
       "    </tr>\n",
       "    <tr>\n",
       "      <th>23</th>\n",
       "      <td>[Motion for Preliminary Injunction, On Appeal]</td>\n",
       "      <td>Plaintiffs allege the City of Springfield (“Sp...</td>\n",
       "    </tr>\n",
       "    <tr>\n",
       "      <th>24</th>\n",
       "      <td>[Motion for Judgment as a Matter of Law (JMOL)...</td>\n",
       "      <td>This case implicates a plethora of issues aris...</td>\n",
       "    </tr>\n",
       "    <tr>\n",
       "      <th>25</th>\n",
       "      <td>[Motion for Judgment as a Matter of Law (JMOL)...</td>\n",
       "      <td>In a consolidated action to recover damages fo...</td>\n",
       "    </tr>\n",
       "    <tr>\n",
       "      <th>26</th>\n",
       "      <td>[Motion for Judgment as a Matter of Law (JMOL)...</td>\n",
       "      <td>Lydia Vega sued her former employer, the Chica...</td>\n",
       "    </tr>\n",
       "    <tr>\n",
       "      <th>27</th>\n",
       "      <td>[Motion for Attorney's Fees, On Appeal]</td>\n",
       "      <td>Appellants argue that the trial court abused i...</td>\n",
       "    </tr>\n",
       "    <tr>\n",
       "      <th>28</th>\n",
       "      <td>[Motion for Attorney's Fees, On Appeal]</td>\n",
       "      <td>Appeal from an order of the Supreme Court, Roc...</td>\n",
       "    </tr>\n",
       "    <tr>\n",
       "      <th>29</th>\n",
       "      <td>[Motion for Attorney's Fees, On Appeal]</td>\n",
       "      <td>James McKenzie appeals from the trial court's ...</td>\n",
       "    </tr>\n",
       "  </tbody>\n",
       "</table>\n",
       "</div>"
      ],
      "text/plain": [
       "                                             postures  \\\n",
       "0                                         [On Appeal]   \n",
       "1                                         [On Appeal]   \n",
       "2                                         [On Appeal]   \n",
       "3                                  [Appellate Review]   \n",
       "4                                  [Appellate Review]   \n",
       "5                                  [Appellate Review]   \n",
       "6   [Appellate Review, Sentencing or Penalty Phase...   \n",
       "7   [Appellate Review, Sentencing or Penalty Phase...   \n",
       "8   [Appellate Review, Sentencing or Penalty Phase...   \n",
       "9           [Motion to Compel Arbitration, On Appeal]   \n",
       "10                     [Motion to Compel Arbitration]   \n",
       "11  [Motion to Compel Arbitration, Motion to Dismi...   \n",
       "12     [On Appeal, Review of Administrative Decision]   \n",
       "13                [Review of Administrative Decision]   \n",
       "14                [Review of Administrative Decision]   \n",
       "15                                [Motion to Dismiss]   \n",
       "16                     [Motion to Dismiss, On Appeal]   \n",
       "17                     [Motion to Dismiss, On Appeal]   \n",
       "18  [Appellate Review, Trial or Guilt Phase Motion...   \n",
       "19  [Appellate Review, Trial or Guilt Phase Motion...   \n",
       "20  [Appellate Review, Trial or Guilt Phase Motion...   \n",
       "21     [Motion for Preliminary Injunction, On Appeal]   \n",
       "22     [Motion for Preliminary Injunction, On Appeal]   \n",
       "23     [Motion for Preliminary Injunction, On Appeal]   \n",
       "24  [Motion for Judgment as a Matter of Law (JMOL)...   \n",
       "25  [Motion for Judgment as a Matter of Law (JMOL)...   \n",
       "26  [Motion for Judgment as a Matter of Law (JMOL)...   \n",
       "27            [Motion for Attorney's Fees, On Appeal]   \n",
       "28            [Motion for Attorney's Fees, On Appeal]   \n",
       "29            [Motion for Attorney's Fees, On Appeal]   \n",
       "\n",
       "                                          para_concat  \n",
       "0   This appeal arises from a judgment entered in ...  \n",
       "1   The plaintiff, Gaynell Shelton, appeals a tria...  \n",
       "2   Appeal from an order of the District Court of ...  \n",
       "3   Defendants-appellants Kwame A. Insaidoo (“Kwam...  \n",
       "4   ¶ 1. Defendant appeals a conviction of refusal...  \n",
       "5   ¶1. A jury found Willie Nash guilty of possess...  \n",
       "6   Defendant appeals a judgment of conviction for...  \n",
       "7   A jury found Jorge Sainz Navarrete guilty of c...  \n",
       "8   Elmer Don Whittaker pled guilty to maintaining...  \n",
       "9   Appellant Brickell Motors, LLC, seeks review o...  \n",
       "10  Petitioner Universal Protection Service, L.P. ...  \n",
       "11  In this action under Section 301 of the Labor ...  \n",
       "12  Appellants S.H. and R.L.G. challenge the Minne...  \n",
       "13  The Goshen Public Library of Elkhart County, I...  \n",
       "14  [¶ 1] The Conservation Law Foundation; the Ind...  \n",
       "15  This is a summary proceeding to recover posses...  \n",
       "16  The defendant, Jerry P. Cotrone, appeals from ...  \n",
       "17  Order, Supreme Court, New York County (Eileen ...  \n",
       "18  Appeal by the defendant from a judgment of the...  \n",
       "19  In this exception proceeding, the question pre...  \n",
       "20  Appellant Roderick Thornton was convicted of m...  \n",
       "21  Appeal from an order of the Supreme Court (Rei...  \n",
       "22  Jan Kowalski McDonald, an Illinois attorney pr...  \n",
       "23  Plaintiffs allege the City of Springfield (“Sp...  \n",
       "24  This case implicates a plethora of issues aris...  \n",
       "25  In a consolidated action to recover damages fo...  \n",
       "26  Lydia Vega sued her former employer, the Chica...  \n",
       "27  Appellants argue that the trial court abused i...  \n",
       "28  Appeal from an order of the Supreme Court, Roc...  \n",
       "29  James McKenzie appeals from the trial court's ...  "
      ]
     },
     "execution_count": 66,
     "metadata": {},
     "output_type": "execute_result"
    }
   ],
   "source": [
    "df"
   ]
  },
  {
   "cell_type": "code",
   "execution_count": 259,
   "id": "a47bb489-3abe-4588-bbc1-131b3b572afb",
   "metadata": {
    "tags": []
   },
   "outputs": [],
   "source": [
    "#df=df.explode('postures').reset_index(drop=True)"
   ]
  },
  {
   "cell_type": "code",
   "execution_count": 260,
   "id": "2e23be63-9197-46ac-bd4b-ce2025c4a4e7",
   "metadata": {
    "tags": []
   },
   "outputs": [],
   "source": [
    "#df"
   ]
  },
  {
   "cell_type": "code",
   "execution_count": 306,
   "id": "0c58a9c7-9ca4-459c-8900-6bfa2a35fe7b",
   "metadata": {
    "tags": []
   },
   "outputs": [],
   "source": [
    "test_summaries=[]"
   ]
  },
  {
   "cell_type": "code",
   "execution_count": 307,
   "id": "b538f284-73d9-4ec1-8fbd-3fc4a0a04624",
   "metadata": {
    "tags": []
   },
   "outputs": [],
   "source": [
    "for i in list(df.para_concat):\n",
    "    test_summaries.append(summary_chain.invoke(text_splitter.create_documents([i])))"
   ]
  },
  {
   "cell_type": "code",
   "execution_count": 308,
   "id": "1a2bef6d-7047-4f44-a99c-98d38c8b00b3",
   "metadata": {
    "tags": []
   },
   "outputs": [],
   "source": [
    "test_summaries_final=[]\n",
    "for i in test_summaries:\n",
    "    test_summaries_final.append(i['output_text'])"
   ]
  },
  {
   "cell_type": "code",
   "execution_count": 311,
   "id": "19d6ec74-e06b-4994-a098-819167e17d00",
   "metadata": {
    "tags": []
   },
   "outputs": [],
   "source": [
    "with open('my_list.json', 'w') as f:\n",
    "    json.dump(test_summaries_final, f)"
   ]
  },
  {
   "cell_type": "code",
   "execution_count": 67,
   "id": "15edd75d-8d92-4cde-8d96-2cf70c42065b",
   "metadata": {
    "tags": []
   },
   "outputs": [],
   "source": [
    "with open('my_list.json', 'r') as f:\n",
    "    restored_list = json.load(f)"
   ]
  },
  {
   "cell_type": "code",
   "execution_count": 68,
   "id": "9299ae89-ba0b-4786-8043-97ce8d0c8718",
   "metadata": {
    "tags": []
   },
   "outputs": [
    {
     "data": {
      "text/plain": [
       "30"
      ]
     },
     "execution_count": 68,
     "metadata": {},
     "output_type": "execute_result"
    }
   ],
   "source": [
    "len(restored_list)"
   ]
  },
  {
   "cell_type": "code",
   "execution_count": 73,
   "id": "1f5aa657-9891-4b07-bd77-a0985473308b",
   "metadata": {
    "tags": []
   },
   "outputs": [],
   "source": [
    "final_test_output_method_2=[]"
   ]
  },
  {
   "cell_type": "code",
   "execution_count": 74,
   "id": "5ceed4bd-641f-4636-b92c-1f45316fc6a7",
   "metadata": {
    "tags": []
   },
   "outputs": [],
   "source": [
    "for i in restored_list:\n",
    "    temp_list=[]\n",
    "    try:\n",
    "        for j in index.similarity_search_with_relevance_scores(i):\n",
    "            temp_list.append(j[0].metadata['postures'])\n",
    "        temp_list=list(set(temp_list))\n",
    "        final_test_output_method_2.append(temp_list)\n",
    "    except:\n",
    "        temp_list=['LLM Error']\n",
    "        final_test_output_method_2.append(temp_list)"
   ]
  },
  {
   "cell_type": "code",
   "execution_count": 75,
   "id": "4ff77dcf-b918-48aa-b969-b99fdfec7872",
   "metadata": {
    "tags": []
   },
   "outputs": [
    {
     "data": {
      "text/plain": [
       "[['Motion for Judgment as a Matter of Law (JMOL)/Directed Verdict',\n",
       "  'Motion for Remittitur'],\n",
       " ['On Appeal', 'Motion for Contempt Sanctions', \"Motion for Attorney's Fees\"],\n",
       " ['Motion to Dismiss',\n",
       "  'Review of Administrative Decision',\n",
       "  'Motion for Preliminary Injunction'],\n",
       " ['Appellate Review',\n",
       "  'Sentencing or Penalty Phase Motion or Objection',\n",
       "  'Motion to Transfer or Change Venue',\n",
       "  'Trial or Guilt Phase Motion or Objection'],\n",
       " ['Appellate Review', 'Trial or Guilt Phase Motion or Objection'],\n",
       " ['Sentencing or Penalty Phase Motion or Objection'],\n",
       " ['Sentencing or Penalty Phase Motion or Objection',\n",
       "  'Trial or Guilt Phase Motion or Objection'],\n",
       " ['LLM Error'],\n",
       " ['Sentencing or Penalty Phase Motion or Objection',\n",
       "  'On Appeal',\n",
       "  'Motion for Contempt Sanctions'],\n",
       " ['Motion to Transfer or Change Venue', 'Motion to Compel Arbitration'],\n",
       " ['Motion to Transfer or Change Venue', 'Motion to Compel Arbitration'],\n",
       " ['Motion to Transfer or Change Venue', 'Motion to Compel Arbitration'],\n",
       " ['Motion to Stay Enforcement of Judgment',\n",
       "  'Motion to Transfer or Change Venue'],\n",
       " ['Motion to Dismiss',\n",
       "  'Review of Administrative Decision',\n",
       "  'Motion to Stay Enforcement of Judgment'],\n",
       " ['Motion to Stay Enforcement of Judgment',\n",
       "  'Review of Administrative Decision'],\n",
       " ['Motion to Stay Enforcement of Judgment',\n",
       "  'Review of Administrative Decision',\n",
       "  'Motion to Transfer or Change Venue'],\n",
       " ['Motion to Dismiss',\n",
       "  'Review of Administrative Decision',\n",
       "  'Motion to Compel Arbitration'],\n",
       " ['Motion to Stay Enforcement of Judgment',\n",
       "  'Motion for Preliminary Injunction',\n",
       "  'Motion to Transfer or Change Venue'],\n",
       " ['Appellate Review', 'Trial or Guilt Phase Motion or Objection'],\n",
       " ['Motion to Stay Enforcement of Judgment',\n",
       "  'Appellate Review',\n",
       "  'Sentencing or Penalty Phase Motion or Objection',\n",
       "  'Trial or Guilt Phase Motion or Objection'],\n",
       " ['Appellate Review',\n",
       "  'Sentencing or Penalty Phase Motion or Objection',\n",
       "  'Trial or Guilt Phase Motion or Objection'],\n",
       " ['Motion to Transfer or Change Venue'],\n",
       " ['Motion to Stay Enforcement of Judgment'],\n",
       " ['Motion to Dismiss',\n",
       "  'Review of Administrative Decision',\n",
       "  'Motion to Transfer or Change Venue',\n",
       "  'Motion to Stay Enforcement of Judgment'],\n",
       " ['Motion for Preliminary Injunction', 'Motion for Remittitur'],\n",
       " ['Motion for Judgment as a Matter of Law (JMOL)/Directed Verdict',\n",
       "  'Motion for Remittitur'],\n",
       " ['Motion for Judgment as a Matter of Law (JMOL)/Directed Verdict',\n",
       "  'Motion for Remittitur'],\n",
       " ['Motion to Dismiss', 'Review of Administrative Decision'],\n",
       " ['Motion to Dismiss', 'Review of Administrative Decision'],\n",
       " ['Motion to Dismiss',\n",
       "  'On Appeal',\n",
       "  'Motion for Contempt Sanctions',\n",
       "  \"Motion for Attorney's Fees\"]]"
      ]
     },
     "execution_count": 75,
     "metadata": {},
     "output_type": "execute_result"
    }
   ],
   "source": [
    "final_test_output_method_2"
   ]
  },
  {
   "cell_type": "code",
   "execution_count": null,
   "id": "8cea9584-cd03-40fb-850b-24ca7755df5f",
   "metadata": {},
   "outputs": [],
   "source": []
  },
  {
   "cell_type": "code",
   "execution_count": 76,
   "id": "d1e1c254-18da-4618-85fe-cdd407cecee8",
   "metadata": {
    "tags": []
   },
   "outputs": [],
   "source": [
    "True_Posture_List_Test=list(df.postures)"
   ]
  },
  {
   "cell_type": "code",
   "execution_count": 77,
   "id": "d680a918-4e8e-416c-a187-68ffe31fe054",
   "metadata": {
    "tags": []
   },
   "outputs": [],
   "source": [
    "with open('True_Posture_List_Test.json', 'w') as f:\n",
    "    json.dump(True_Posture_List_Test, f)"
   ]
  },
  {
   "cell_type": "code",
   "execution_count": 78,
   "id": "382f6eb5-8b38-41bb-a1d7-896ee02a3096",
   "metadata": {
    "tags": []
   },
   "outputs": [],
   "source": [
    "with open('True_Posture_List_Test.json', 'r') as f:\n",
    "    true_list = json.load(f)"
   ]
  },
  {
   "cell_type": "code",
   "execution_count": 79,
   "id": "053ed1b2-9c5b-4ed4-8cd3-f928f702c674",
   "metadata": {
    "tags": []
   },
   "outputs": [],
   "source": [
    "final_prediction_method_2=pd.DataFrame({'True_Postures':true_list, 'Predicted_Postures':final_test_output_method_2})"
   ]
  },
  {
   "cell_type": "code",
   "execution_count": 80,
   "id": "18f30315-6193-4f03-a3da-b12c6dc73f3b",
   "metadata": {
    "tags": []
   },
   "outputs": [],
   "source": [
    "final_prediction_method_2.to_csv('Prediction_Method_2.csv')"
   ]
  },
  {
   "cell_type": "code",
   "execution_count": null,
   "id": "cb315b01-0308-4ef4-b169-5c952bcbd16a",
   "metadata": {},
   "outputs": [],
   "source": []
  }
 ],
 "metadata": {
  "availableInstances": [
   {
    "_defaultOrder": 0,
    "_isFastLaunch": true,
    "category": "General purpose",
    "gpuNum": 0,
    "hideHardwareSpecs": false,
    "memoryGiB": 4,
    "name": "ml.t3.medium",
    "vcpuNum": 2
   },
   {
    "_defaultOrder": 1,
    "_isFastLaunch": false,
    "category": "General purpose",
    "gpuNum": 0,
    "hideHardwareSpecs": false,
    "memoryGiB": 8,
    "name": "ml.t3.large",
    "vcpuNum": 2
   },
   {
    "_defaultOrder": 2,
    "_isFastLaunch": false,
    "category": "General purpose",
    "gpuNum": 0,
    "hideHardwareSpecs": false,
    "memoryGiB": 16,
    "name": "ml.t3.xlarge",
    "vcpuNum": 4
   },
   {
    "_defaultOrder": 3,
    "_isFastLaunch": false,
    "category": "General purpose",
    "gpuNum": 0,
    "hideHardwareSpecs": false,
    "memoryGiB": 32,
    "name": "ml.t3.2xlarge",
    "vcpuNum": 8
   },
   {
    "_defaultOrder": 4,
    "_isFastLaunch": true,
    "category": "General purpose",
    "gpuNum": 0,
    "hideHardwareSpecs": false,
    "memoryGiB": 8,
    "name": "ml.m5.large",
    "vcpuNum": 2
   },
   {
    "_defaultOrder": 5,
    "_isFastLaunch": false,
    "category": "General purpose",
    "gpuNum": 0,
    "hideHardwareSpecs": false,
    "memoryGiB": 16,
    "name": "ml.m5.xlarge",
    "vcpuNum": 4
   },
   {
    "_defaultOrder": 6,
    "_isFastLaunch": false,
    "category": "General purpose",
    "gpuNum": 0,
    "hideHardwareSpecs": false,
    "memoryGiB": 32,
    "name": "ml.m5.2xlarge",
    "vcpuNum": 8
   },
   {
    "_defaultOrder": 7,
    "_isFastLaunch": false,
    "category": "General purpose",
    "gpuNum": 0,
    "hideHardwareSpecs": false,
    "memoryGiB": 64,
    "name": "ml.m5.4xlarge",
    "vcpuNum": 16
   },
   {
    "_defaultOrder": 8,
    "_isFastLaunch": false,
    "category": "General purpose",
    "gpuNum": 0,
    "hideHardwareSpecs": false,
    "memoryGiB": 128,
    "name": "ml.m5.8xlarge",
    "vcpuNum": 32
   },
   {
    "_defaultOrder": 9,
    "_isFastLaunch": false,
    "category": "General purpose",
    "gpuNum": 0,
    "hideHardwareSpecs": false,
    "memoryGiB": 192,
    "name": "ml.m5.12xlarge",
    "vcpuNum": 48
   },
   {
    "_defaultOrder": 10,
    "_isFastLaunch": false,
    "category": "General purpose",
    "gpuNum": 0,
    "hideHardwareSpecs": false,
    "memoryGiB": 256,
    "name": "ml.m5.16xlarge",
    "vcpuNum": 64
   },
   {
    "_defaultOrder": 11,
    "_isFastLaunch": false,
    "category": "General purpose",
    "gpuNum": 0,
    "hideHardwareSpecs": false,
    "memoryGiB": 384,
    "name": "ml.m5.24xlarge",
    "vcpuNum": 96
   },
   {
    "_defaultOrder": 12,
    "_isFastLaunch": false,
    "category": "General purpose",
    "gpuNum": 0,
    "hideHardwareSpecs": false,
    "memoryGiB": 8,
    "name": "ml.m5d.large",
    "vcpuNum": 2
   },
   {
    "_defaultOrder": 13,
    "_isFastLaunch": false,
    "category": "General purpose",
    "gpuNum": 0,
    "hideHardwareSpecs": false,
    "memoryGiB": 16,
    "name": "ml.m5d.xlarge",
    "vcpuNum": 4
   },
   {
    "_defaultOrder": 14,
    "_isFastLaunch": false,
    "category": "General purpose",
    "gpuNum": 0,
    "hideHardwareSpecs": false,
    "memoryGiB": 32,
    "name": "ml.m5d.2xlarge",
    "vcpuNum": 8
   },
   {
    "_defaultOrder": 15,
    "_isFastLaunch": false,
    "category": "General purpose",
    "gpuNum": 0,
    "hideHardwareSpecs": false,
    "memoryGiB": 64,
    "name": "ml.m5d.4xlarge",
    "vcpuNum": 16
   },
   {
    "_defaultOrder": 16,
    "_isFastLaunch": false,
    "category": "General purpose",
    "gpuNum": 0,
    "hideHardwareSpecs": false,
    "memoryGiB": 128,
    "name": "ml.m5d.8xlarge",
    "vcpuNum": 32
   },
   {
    "_defaultOrder": 17,
    "_isFastLaunch": false,
    "category": "General purpose",
    "gpuNum": 0,
    "hideHardwareSpecs": false,
    "memoryGiB": 192,
    "name": "ml.m5d.12xlarge",
    "vcpuNum": 48
   },
   {
    "_defaultOrder": 18,
    "_isFastLaunch": false,
    "category": "General purpose",
    "gpuNum": 0,
    "hideHardwareSpecs": false,
    "memoryGiB": 256,
    "name": "ml.m5d.16xlarge",
    "vcpuNum": 64
   },
   {
    "_defaultOrder": 19,
    "_isFastLaunch": false,
    "category": "General purpose",
    "gpuNum": 0,
    "hideHardwareSpecs": false,
    "memoryGiB": 384,
    "name": "ml.m5d.24xlarge",
    "vcpuNum": 96
   },
   {
    "_defaultOrder": 20,
    "_isFastLaunch": false,
    "category": "General purpose",
    "gpuNum": 0,
    "hideHardwareSpecs": true,
    "memoryGiB": 0,
    "name": "ml.geospatial.interactive",
    "supportedImageNames": [
     "sagemaker-geospatial-v1-0"
    ],
    "vcpuNum": 0
   },
   {
    "_defaultOrder": 21,
    "_isFastLaunch": true,
    "category": "Compute optimized",
    "gpuNum": 0,
    "hideHardwareSpecs": false,
    "memoryGiB": 4,
    "name": "ml.c5.large",
    "vcpuNum": 2
   },
   {
    "_defaultOrder": 22,
    "_isFastLaunch": false,
    "category": "Compute optimized",
    "gpuNum": 0,
    "hideHardwareSpecs": false,
    "memoryGiB": 8,
    "name": "ml.c5.xlarge",
    "vcpuNum": 4
   },
   {
    "_defaultOrder": 23,
    "_isFastLaunch": false,
    "category": "Compute optimized",
    "gpuNum": 0,
    "hideHardwareSpecs": false,
    "memoryGiB": 16,
    "name": "ml.c5.2xlarge",
    "vcpuNum": 8
   },
   {
    "_defaultOrder": 24,
    "_isFastLaunch": false,
    "category": "Compute optimized",
    "gpuNum": 0,
    "hideHardwareSpecs": false,
    "memoryGiB": 32,
    "name": "ml.c5.4xlarge",
    "vcpuNum": 16
   },
   {
    "_defaultOrder": 25,
    "_isFastLaunch": false,
    "category": "Compute optimized",
    "gpuNum": 0,
    "hideHardwareSpecs": false,
    "memoryGiB": 72,
    "name": "ml.c5.9xlarge",
    "vcpuNum": 36
   },
   {
    "_defaultOrder": 26,
    "_isFastLaunch": false,
    "category": "Compute optimized",
    "gpuNum": 0,
    "hideHardwareSpecs": false,
    "memoryGiB": 96,
    "name": "ml.c5.12xlarge",
    "vcpuNum": 48
   },
   {
    "_defaultOrder": 27,
    "_isFastLaunch": false,
    "category": "Compute optimized",
    "gpuNum": 0,
    "hideHardwareSpecs": false,
    "memoryGiB": 144,
    "name": "ml.c5.18xlarge",
    "vcpuNum": 72
   },
   {
    "_defaultOrder": 28,
    "_isFastLaunch": false,
    "category": "Compute optimized",
    "gpuNum": 0,
    "hideHardwareSpecs": false,
    "memoryGiB": 192,
    "name": "ml.c5.24xlarge",
    "vcpuNum": 96
   },
   {
    "_defaultOrder": 29,
    "_isFastLaunch": true,
    "category": "Accelerated computing",
    "gpuNum": 1,
    "hideHardwareSpecs": false,
    "memoryGiB": 16,
    "name": "ml.g4dn.xlarge",
    "vcpuNum": 4
   },
   {
    "_defaultOrder": 30,
    "_isFastLaunch": false,
    "category": "Accelerated computing",
    "gpuNum": 1,
    "hideHardwareSpecs": false,
    "memoryGiB": 32,
    "name": "ml.g4dn.2xlarge",
    "vcpuNum": 8
   },
   {
    "_defaultOrder": 31,
    "_isFastLaunch": false,
    "category": "Accelerated computing",
    "gpuNum": 1,
    "hideHardwareSpecs": false,
    "memoryGiB": 64,
    "name": "ml.g4dn.4xlarge",
    "vcpuNum": 16
   },
   {
    "_defaultOrder": 32,
    "_isFastLaunch": false,
    "category": "Accelerated computing",
    "gpuNum": 1,
    "hideHardwareSpecs": false,
    "memoryGiB": 128,
    "name": "ml.g4dn.8xlarge",
    "vcpuNum": 32
   },
   {
    "_defaultOrder": 33,
    "_isFastLaunch": false,
    "category": "Accelerated computing",
    "gpuNum": 4,
    "hideHardwareSpecs": false,
    "memoryGiB": 192,
    "name": "ml.g4dn.12xlarge",
    "vcpuNum": 48
   },
   {
    "_defaultOrder": 34,
    "_isFastLaunch": false,
    "category": "Accelerated computing",
    "gpuNum": 1,
    "hideHardwareSpecs": false,
    "memoryGiB": 256,
    "name": "ml.g4dn.16xlarge",
    "vcpuNum": 64
   },
   {
    "_defaultOrder": 35,
    "_isFastLaunch": false,
    "category": "Accelerated computing",
    "gpuNum": 1,
    "hideHardwareSpecs": false,
    "memoryGiB": 61,
    "name": "ml.p3.2xlarge",
    "vcpuNum": 8
   },
   {
    "_defaultOrder": 36,
    "_isFastLaunch": false,
    "category": "Accelerated computing",
    "gpuNum": 4,
    "hideHardwareSpecs": false,
    "memoryGiB": 244,
    "name": "ml.p3.8xlarge",
    "vcpuNum": 32
   },
   {
    "_defaultOrder": 37,
    "_isFastLaunch": false,
    "category": "Accelerated computing",
    "gpuNum": 8,
    "hideHardwareSpecs": false,
    "memoryGiB": 488,
    "name": "ml.p3.16xlarge",
    "vcpuNum": 64
   },
   {
    "_defaultOrder": 38,
    "_isFastLaunch": false,
    "category": "Accelerated computing",
    "gpuNum": 8,
    "hideHardwareSpecs": false,
    "memoryGiB": 768,
    "name": "ml.p3dn.24xlarge",
    "vcpuNum": 96
   },
   {
    "_defaultOrder": 39,
    "_isFastLaunch": false,
    "category": "Memory Optimized",
    "gpuNum": 0,
    "hideHardwareSpecs": false,
    "memoryGiB": 16,
    "name": "ml.r5.large",
    "vcpuNum": 2
   },
   {
    "_defaultOrder": 40,
    "_isFastLaunch": false,
    "category": "Memory Optimized",
    "gpuNum": 0,
    "hideHardwareSpecs": false,
    "memoryGiB": 32,
    "name": "ml.r5.xlarge",
    "vcpuNum": 4
   },
   {
    "_defaultOrder": 41,
    "_isFastLaunch": false,
    "category": "Memory Optimized",
    "gpuNum": 0,
    "hideHardwareSpecs": false,
    "memoryGiB": 64,
    "name": "ml.r5.2xlarge",
    "vcpuNum": 8
   },
   {
    "_defaultOrder": 42,
    "_isFastLaunch": false,
    "category": "Memory Optimized",
    "gpuNum": 0,
    "hideHardwareSpecs": false,
    "memoryGiB": 128,
    "name": "ml.r5.4xlarge",
    "vcpuNum": 16
   },
   {
    "_defaultOrder": 43,
    "_isFastLaunch": false,
    "category": "Memory Optimized",
    "gpuNum": 0,
    "hideHardwareSpecs": false,
    "memoryGiB": 256,
    "name": "ml.r5.8xlarge",
    "vcpuNum": 32
   },
   {
    "_defaultOrder": 44,
    "_isFastLaunch": false,
    "category": "Memory Optimized",
    "gpuNum": 0,
    "hideHardwareSpecs": false,
    "memoryGiB": 384,
    "name": "ml.r5.12xlarge",
    "vcpuNum": 48
   },
   {
    "_defaultOrder": 45,
    "_isFastLaunch": false,
    "category": "Memory Optimized",
    "gpuNum": 0,
    "hideHardwareSpecs": false,
    "memoryGiB": 512,
    "name": "ml.r5.16xlarge",
    "vcpuNum": 64
   },
   {
    "_defaultOrder": 46,
    "_isFastLaunch": false,
    "category": "Memory Optimized",
    "gpuNum": 0,
    "hideHardwareSpecs": false,
    "memoryGiB": 768,
    "name": "ml.r5.24xlarge",
    "vcpuNum": 96
   },
   {
    "_defaultOrder": 47,
    "_isFastLaunch": false,
    "category": "Accelerated computing",
    "gpuNum": 1,
    "hideHardwareSpecs": false,
    "memoryGiB": 16,
    "name": "ml.g5.xlarge",
    "vcpuNum": 4
   },
   {
    "_defaultOrder": 48,
    "_isFastLaunch": false,
    "category": "Accelerated computing",
    "gpuNum": 1,
    "hideHardwareSpecs": false,
    "memoryGiB": 32,
    "name": "ml.g5.2xlarge",
    "vcpuNum": 8
   },
   {
    "_defaultOrder": 49,
    "_isFastLaunch": false,
    "category": "Accelerated computing",
    "gpuNum": 1,
    "hideHardwareSpecs": false,
    "memoryGiB": 64,
    "name": "ml.g5.4xlarge",
    "vcpuNum": 16
   },
   {
    "_defaultOrder": 50,
    "_isFastLaunch": false,
    "category": "Accelerated computing",
    "gpuNum": 1,
    "hideHardwareSpecs": false,
    "memoryGiB": 128,
    "name": "ml.g5.8xlarge",
    "vcpuNum": 32
   },
   {
    "_defaultOrder": 51,
    "_isFastLaunch": false,
    "category": "Accelerated computing",
    "gpuNum": 1,
    "hideHardwareSpecs": false,
    "memoryGiB": 256,
    "name": "ml.g5.16xlarge",
    "vcpuNum": 64
   },
   {
    "_defaultOrder": 52,
    "_isFastLaunch": false,
    "category": "Accelerated computing",
    "gpuNum": 4,
    "hideHardwareSpecs": false,
    "memoryGiB": 192,
    "name": "ml.g5.12xlarge",
    "vcpuNum": 48
   },
   {
    "_defaultOrder": 53,
    "_isFastLaunch": false,
    "category": "Accelerated computing",
    "gpuNum": 4,
    "hideHardwareSpecs": false,
    "memoryGiB": 384,
    "name": "ml.g5.24xlarge",
    "vcpuNum": 96
   },
   {
    "_defaultOrder": 54,
    "_isFastLaunch": false,
    "category": "Accelerated computing",
    "gpuNum": 8,
    "hideHardwareSpecs": false,
    "memoryGiB": 768,
    "name": "ml.g5.48xlarge",
    "vcpuNum": 192
   },
   {
    "_defaultOrder": 55,
    "_isFastLaunch": false,
    "category": "Accelerated computing",
    "gpuNum": 8,
    "hideHardwareSpecs": false,
    "memoryGiB": 1152,
    "name": "ml.p4d.24xlarge",
    "vcpuNum": 96
   },
   {
    "_defaultOrder": 56,
    "_isFastLaunch": false,
    "category": "Accelerated computing",
    "gpuNum": 8,
    "hideHardwareSpecs": false,
    "memoryGiB": 1152,
    "name": "ml.p4de.24xlarge",
    "vcpuNum": 96
   },
   {
    "_defaultOrder": 57,
    "_isFastLaunch": false,
    "category": "Accelerated computing",
    "gpuNum": 0,
    "hideHardwareSpecs": false,
    "memoryGiB": 32,
    "name": "ml.trn1.2xlarge",
    "vcpuNum": 8
   },
   {
    "_defaultOrder": 58,
    "_isFastLaunch": false,
    "category": "Accelerated computing",
    "gpuNum": 0,
    "hideHardwareSpecs": false,
    "memoryGiB": 512,
    "name": "ml.trn1.32xlarge",
    "vcpuNum": 128
   },
   {
    "_defaultOrder": 59,
    "_isFastLaunch": false,
    "category": "Accelerated computing",
    "gpuNum": 0,
    "hideHardwareSpecs": false,
    "memoryGiB": 512,
    "name": "ml.trn1n.32xlarge",
    "vcpuNum": 128
   }
  ],
  "instance_type": "ml.g4dn.xlarge",
  "kernelspec": {
   "display_name": "Python 3 (Data Science 3.0)",
   "language": "python",
   "name": "python3__SAGEMAKER_INTERNAL__arn:aws:sagemaker:us-west-2:236514542706:image/sagemaker-data-science-310-v1"
  },
  "language_info": {
   "codemirror_mode": {
    "name": "ipython",
    "version": 3
   },
   "file_extension": ".py",
   "mimetype": "text/x-python",
   "name": "python",
   "nbconvert_exporter": "python",
   "pygments_lexer": "ipython3",
   "version": "3.10.6"
  }
 },
 "nbformat": 4,
 "nbformat_minor": 5
}
